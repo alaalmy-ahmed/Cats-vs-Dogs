{
 "cells": [
  {
   "cell_type": "code",
   "execution_count": 1,
   "id": "3f934e88",
   "metadata": {
    "_cell_guid": "b1076dfc-b9ad-4769-8c92-a6c4dae69d19",
    "_uuid": "8f2839f25d086af736a60e9eeb907d3b93b6e0e5",
    "execution": {
     "iopub.execute_input": "2022-07-06T23:34:58.704012Z",
     "iopub.status.busy": "2022-07-06T23:34:58.703529Z",
     "iopub.status.idle": "2022-07-06T23:34:58.871606Z",
     "shell.execute_reply": "2022-07-06T23:34:58.870604Z"
    },
    "papermill": {
     "duration": 0.1904,
     "end_time": "2022-07-06T23:34:58.874175",
     "exception": false,
     "start_time": "2022-07-06T23:34:58.683775",
     "status": "completed"
    },
    "tags": []
   },
   "outputs": [
    {
     "name": "stdout",
     "output_type": "stream",
     "text": [
      "/kaggle/input/dogs-vs-cats-redux-kernels-edition/sample_submission.csv\n",
      "/kaggle/input/dogs-vs-cats-redux-kernels-edition/train.zip\n",
      "/kaggle/input/dogs-vs-cats-redux-kernels-edition/test.zip\n"
     ]
    }
   ],
   "source": [
    "# This Python 3 environment comes with many helpful analytics libraries installed\n",
    "# It is defined by the kaggle/python Docker image: https://github.com/kaggle/docker-python\n",
    "# For example, here's several helpful packages to load\n",
    "\n",
    "import numpy as np # linear algebra\n",
    "import pandas as pd # data processing, CSV file I/O (e.g. pd.read_csv)\n",
    "\n",
    "import os, cv2, re, random\n",
    "# Input data files are available in the read-only \"../input/\" directory\n",
    "# For example, running this (by clicking run or pressing Shift+Enter) will list all files under the input directory\n",
    "\n",
    "for dirname, _, filenames in os.walk('/kaggle/input'):\n",
    "    for filename in filenames:\n",
    "        print(os.path.join(dirname, filename))\n",
    "\n",
    "# You can write up to 20GB to the current directory (/kaggle/working/) that gets preserved as output when you create a version using \"Save & Run All\" \n",
    "# You can also write temporary files to /kaggle/temp/, but they won't be saved outside of the current session"
   ]
  },
  {
   "cell_type": "code",
   "execution_count": 2,
   "id": "c5fa5325",
   "metadata": {
    "execution": {
     "iopub.execute_input": "2022-07-06T23:34:58.911448Z",
     "iopub.status.busy": "2022-07-06T23:34:58.911231Z",
     "iopub.status.idle": "2022-07-06T23:35:11.538169Z",
     "shell.execute_reply": "2022-07-06T23:35:11.537272Z"
    },
    "papermill": {
     "duration": 12.648779,
     "end_time": "2022-07-06T23:35:11.541793",
     "exception": false,
     "start_time": "2022-07-06T23:34:58.893014",
     "status": "completed"
    },
    "tags": []
   },
   "outputs": [],
   "source": [
    "import zipfile\n",
    "zip_df = zipfile.ZipFile(\"/kaggle/input/dogs-vs-cats-redux-kernels-edition/train.zip\", 'r')\n",
    "zip_df.extractall(\"/kaggle/working/\")\n",
    "zip_df.close()"
   ]
  },
  {
   "cell_type": "code",
   "execution_count": 3,
   "id": "dc948381",
   "metadata": {
    "execution": {
     "iopub.execute_input": "2022-07-06T23:35:11.605263Z",
     "iopub.status.busy": "2022-07-06T23:35:11.604982Z",
     "iopub.status.idle": "2022-07-06T23:35:17.077948Z",
     "shell.execute_reply": "2022-07-06T23:35:17.077208Z"
    },
    "papermill": {
     "duration": 5.505129,
     "end_time": "2022-07-06T23:35:17.080269",
     "exception": false,
     "start_time": "2022-07-06T23:35:11.575140",
     "status": "completed"
    },
    "tags": []
   },
   "outputs": [],
   "source": [
    "zip_df = zipfile.ZipFile(\"/kaggle/input/dogs-vs-cats-redux-kernels-edition/test.zip\", 'r')\n",
    "zip_df.extractall(\"/kaggle/working/\")\n",
    "zip_df.close()"
   ]
  },
  {
   "cell_type": "code",
   "execution_count": 4,
   "id": "39a94622",
   "metadata": {
    "execution": {
     "iopub.execute_input": "2022-07-06T23:35:17.117556Z",
     "iopub.status.busy": "2022-07-06T23:35:17.117324Z",
     "iopub.status.idle": "2022-07-06T23:35:17.145161Z",
     "shell.execute_reply": "2022-07-06T23:35:17.144560Z"
    },
    "papermill": {
     "duration": 0.047914,
     "end_time": "2022-07-06T23:35:17.146833",
     "exception": false,
     "start_time": "2022-07-06T23:35:17.098919",
     "status": "completed"
    },
    "tags": []
   },
   "outputs": [],
   "source": [
    "#  we need all the images to be at the same size as we don't want errors in the input shape\n",
    "img_width = 150  \n",
    "img_height = 150\n",
    "\n",
    "TRAIN_DIR = './train/'  # here is the trianing directory to the folder where we have the images\n",
    "TEST_DIR = './test/'  # here is the testing directory to the folder where we have the images\n",
    "\n",
    "#this will return a list containing all the images inside the directory you passed.\n",
    "# print(os.listdir(TRAIN_DIR))\n",
    "\n",
    "# These two lines will make two lists one for training and one for testing each containing\n",
    "# all the directory for every image.\n",
    "train_images_dogs_cats = [TRAIN_DIR+i for i in os.listdir(TRAIN_DIR)] \n",
    "test_images_dogs_cats = [TEST_DIR+i for i in os.listdir(TEST_DIR)]"
   ]
  },
  {
   "cell_type": "code",
   "execution_count": 5,
   "id": "9024f822",
   "metadata": {
    "execution": {
     "iopub.execute_input": "2022-07-06T23:35:17.185203Z",
     "iopub.status.busy": "2022-07-06T23:35:17.184985Z",
     "iopub.status.idle": "2022-07-06T23:35:17.374986Z",
     "shell.execute_reply": "2022-07-06T23:35:17.374282Z"
    },
    "papermill": {
     "duration": 0.212185,
     "end_time": "2022-07-06T23:35:17.376868",
     "exception": false,
     "start_time": "2022-07-06T23:35:17.164683",
     "status": "completed"
    },
    "tags": []
   },
   "outputs": [],
   "source": [
    "import re\n",
    "\n",
    "# Helper function to sort the image files based on the numeric value in each file name.\n",
    "# you don't have to apply them and the code will work and everything will be fine\n",
    "def atoi(text):\n",
    "    return int(text) if text.isdigit() else text\n",
    "\n",
    "def natural_keys(text):\n",
    "    return [ atoi(c) for c in re.split('(\\d+)', text) ]\n",
    "\n",
    "# print(train_images_dogs_cats[:5])\n",
    "train_images_dogs_cats.sort(key=natural_keys)\n",
    "\n",
    "test_images_dogs_cats.sort(key=natural_keys)"
   ]
  },
  {
   "cell_type": "code",
   "execution_count": 6,
   "id": "9d57287a",
   "metadata": {
    "execution": {
     "iopub.execute_input": "2022-07-06T23:35:17.413000Z",
     "iopub.status.busy": "2022-07-06T23:35:17.412803Z",
     "iopub.status.idle": "2022-07-06T23:35:17.418092Z",
     "shell.execute_reply": "2022-07-06T23:35:17.417427Z"
    },
    "papermill": {
     "duration": 0.024767,
     "end_time": "2022-07-06T23:35:17.419654",
     "exception": false,
     "start_time": "2022-07-06T23:35:17.394887",
     "status": "completed"
    },
    "tags": []
   },
   "outputs": [],
   "source": [
    "# There are 25000 images for training and testing 12500 for dogs 12500 for cats.\n",
    "train_images_dogs_cats = train_images_dogs_cats[0:1000] + train_images_dogs_cats[12500:13500] \n",
    "# valid_images_dogs_cats = train_images_dogs_cats[3000:4000] + train_images_dogs_cats[15500:16500]"
   ]
  },
  {
   "cell_type": "code",
   "execution_count": 7,
   "id": "2f506e31",
   "metadata": {
    "execution": {
     "iopub.execute_input": "2022-07-06T23:35:17.455411Z",
     "iopub.status.busy": "2022-07-06T23:35:17.455220Z",
     "iopub.status.idle": "2022-07-06T23:35:17.458290Z",
     "shell.execute_reply": "2022-07-06T23:35:17.457568Z"
    },
    "papermill": {
     "duration": 0.023188,
     "end_time": "2022-07-06T23:35:17.460296",
     "exception": false,
     "start_time": "2022-07-06T23:35:17.437108",
     "status": "completed"
    },
    "tags": []
   },
   "outputs": [],
   "source": [
    "# img = train_images_dogs_cats[0]\n",
    "# print(img)\n",
    "# img = cv2.imread(img)\n",
    "# img\n",
    "# # cv2.imshow('image', img)"
   ]
  },
  {
   "cell_type": "code",
   "execution_count": 8,
   "id": "44fa5455",
   "metadata": {
    "execution": {
     "iopub.execute_input": "2022-07-06T23:35:17.496121Z",
     "iopub.status.busy": "2022-07-06T23:35:17.495935Z",
     "iopub.status.idle": "2022-07-06T23:35:17.501299Z",
     "shell.execute_reply": "2022-07-06T23:35:17.500675Z"
    },
    "papermill": {
     "duration": 0.025466,
     "end_time": "2022-07-06T23:35:17.502905",
     "exception": false,
     "start_time": "2022-07-06T23:35:17.477439",
     "status": "completed"
    },
    "tags": []
   },
   "outputs": [],
   "source": [
    "def prepare_data(list_of_images):\n",
    "    \"\"\"\n",
    "    Returns two arrays: \n",
    "    x is an array of resized images\n",
    "    y is an array of labels\n",
    "    \"\"\"\n",
    "    x = [] # images as arrays\n",
    "    y = [] # labels\n",
    "\n",
    "    # this will append each image in x list with resizing it.\n",
    "    for image in list_of_images:\n",
    "        x.append(cv2.resize(cv2.imread(image), (img_width,img_height), interpolation=cv2.INTER_CUBIC))\n",
    "    \n",
    "    # As we can't deal with categorical labels we need to change the labels to numerical such 0, 1\n",
    "    # This code does this for us as it changes dog to 1, cat to 0\n",
    "    for i in list_of_images:\n",
    "        if 'dog' in i:\n",
    "            y.append(1)\n",
    "        elif 'cat' in i:\n",
    "            y.append(0)\n",
    "\n",
    "    return x, y"
   ]
  },
  {
   "cell_type": "code",
   "execution_count": 9,
   "id": "f803e935",
   "metadata": {
    "execution": {
     "iopub.execute_input": "2022-07-06T23:35:17.537925Z",
     "iopub.status.busy": "2022-07-06T23:35:17.537711Z",
     "iopub.status.idle": "2022-07-06T23:35:22.121757Z",
     "shell.execute_reply": "2022-07-06T23:35:22.120900Z"
    },
    "papermill": {
     "duration": 4.604681,
     "end_time": "2022-07-06T23:35:22.124605",
     "exception": false,
     "start_time": "2022-07-06T23:35:17.519924",
     "status": "completed"
    },
    "tags": []
   },
   "outputs": [],
   "source": [
    "X, Y = prepare_data(train_images_dogs_cats)"
   ]
  },
  {
   "cell_type": "code",
   "execution_count": 10,
   "id": "67d46351",
   "metadata": {
    "execution": {
     "iopub.execute_input": "2022-07-06T23:35:23.388146Z",
     "iopub.status.busy": "2022-07-06T23:35:23.387831Z",
     "iopub.status.idle": "2022-07-06T23:35:24.269951Z",
     "shell.execute_reply": "2022-07-06T23:35:24.269244Z"
    },
    "papermill": {
     "duration": 2.114629,
     "end_time": "2022-07-06T23:35:24.272044",
     "exception": false,
     "start_time": "2022-07-06T23:35:22.157415",
     "status": "completed"
    },
    "tags": []
   },
   "outputs": [],
   "source": [
    "from sklearn.model_selection import train_test_split\n",
    "\n",
    "X_train, X_val, Y_train, Y_val = train_test_split(X, Y, test_size=0.3, shuffle=1)"
   ]
  },
  {
   "cell_type": "code",
   "execution_count": 11,
   "id": "03257dad",
   "metadata": {
    "execution": {
     "iopub.execute_input": "2022-07-06T23:35:24.308473Z",
     "iopub.status.busy": "2022-07-06T23:35:24.307892Z",
     "iopub.status.idle": "2022-07-06T23:35:29.093580Z",
     "shell.execute_reply": "2022-07-06T23:35:29.092834Z"
    },
    "papermill": {
     "duration": 4.805716,
     "end_time": "2022-07-06T23:35:29.095656",
     "exception": false,
     "start_time": "2022-07-06T23:35:24.289940",
     "status": "completed"
    },
    "tags": []
   },
   "outputs": [],
   "source": [
    "from keras.preprocessing.image import ImageDataGenerator\n",
    "\n",
    "train_datagen = ImageDataGenerator(\n",
    "        rescale=1 / 255.0,\n",
    "        rotation_range=30,\n",
    "        zoom_range=0.3,\n",
    "        width_shift_range=0.2,\n",
    "        height_shift_range=0.2,\n",
    "        shear_range=0.2,\n",
    "        horizontal_flip=True,\n",
    "        fill_mode=\"nearest\",\n",
    "        validation_split=0.20\n",
    " )\n",
    "\n",
    "val_datagen = ImageDataGenerator(\n",
    "        rescale=1 / 255.0,\n",
    "        rotation_range=30,\n",
    "        zoom_range=0.3,\n",
    "        width_shift_range=0.2,\n",
    "        height_shift_range=0.2,\n",
    "        shear_range=0.2,\n",
    "        horizontal_flip=True,\n",
    "        fill_mode=\"nearest\",\n",
    "        validation_split=0.20\n",
    "        )"
   ]
  },
  {
   "cell_type": "code",
   "execution_count": 12,
   "id": "d542dfb2",
   "metadata": {
    "execution": {
     "iopub.execute_input": "2022-07-06T23:35:29.132283Z",
     "iopub.status.busy": "2022-07-06T23:35:29.132039Z",
     "iopub.status.idle": "2022-07-06T23:35:29.649357Z",
     "shell.execute_reply": "2022-07-06T23:35:29.648649Z"
    },
    "papermill": {
     "duration": 0.53819,
     "end_time": "2022-07-06T23:35:29.651567",
     "exception": false,
     "start_time": "2022-07-06T23:35:29.113377",
     "status": "completed"
    },
    "tags": []
   },
   "outputs": [],
   "source": [
    "train_generator = train_datagen.flow(np.array(X_train), Y_train, batch_size=10)\n",
    "\n",
    "validation_generator = val_datagen.flow(np.array(X_val), Y_val, batch_size=10)"
   ]
  },
  {
   "cell_type": "code",
   "execution_count": 13,
   "id": "79759f3c",
   "metadata": {
    "execution": {
     "iopub.execute_input": "2022-07-06T23:35:29.687943Z",
     "iopub.status.busy": "2022-07-06T23:35:29.687401Z",
     "iopub.status.idle": "2022-07-06T23:35:29.697012Z",
     "shell.execute_reply": "2022-07-06T23:35:29.696397Z"
    },
    "papermill": {
     "duration": 0.029114,
     "end_time": "2022-07-06T23:35:29.698696",
     "exception": false,
     "start_time": "2022-07-06T23:35:29.669582",
     "status": "completed"
    },
    "tags": []
   },
   "outputs": [],
   "source": [
    "from tensorflow.keras.applications.inception_v3 import InceptionV3\n",
    "import tensorflow as tf\n",
    "from tensorflow.keras import layers\n",
    "from tensorflow.keras.optimizers import RMSprop\n",
    "\n",
    "def create_inception_model():\n",
    "    base_model = InceptionV3(input_shape = (150, 150, 3), include_top = False, weights = 'imagenet') \n",
    "    \n",
    "    for layer in base_model.layers:\n",
    "        layer.trainable = False\n",
    "        \n",
    "    x = layers.Flatten()(base_model.output)\n",
    "    x = layers.Dense(512, activation='relu')(x)\n",
    "    x = layers.BatchNormalization()(x)\n",
    "    x = layers.Dropout(0.2)(x)\n",
    "    x = layers.Dense(256, activation='relu')(x)\n",
    "    # Add a final sigmoid layer with 1 node for classification output\n",
    "    x = layers.Dense(1, activation='sigmoid')(x)\n",
    "    model = tf.keras.models.Model(base_model.input, x)\n",
    "    model.compile(optimizer = RMSprop(learning_rate=0.0001), loss = 'binary_crossentropy', metrics = ['accuracy'])\n",
    "    return model"
   ]
  },
  {
   "cell_type": "code",
   "execution_count": 14,
   "id": "e7969856",
   "metadata": {
    "execution": {
     "iopub.execute_input": "2022-07-06T23:35:29.734989Z",
     "iopub.status.busy": "2022-07-06T23:35:29.734576Z",
     "iopub.status.idle": "2022-07-06T23:35:34.979315Z",
     "shell.execute_reply": "2022-07-06T23:35:34.978574Z"
    },
    "papermill": {
     "duration": 5.265118,
     "end_time": "2022-07-06T23:35:34.981495",
     "exception": false,
     "start_time": "2022-07-06T23:35:29.716377",
     "status": "completed"
    },
    "tags": []
   },
   "outputs": [
    {
     "name": "stderr",
     "output_type": "stream",
     "text": [
      "2022-07-06 23:35:29.837623: I tensorflow/stream_executor/cuda/cuda_gpu_executor.cc:937] successful NUMA node read from SysFS had negative value (-1), but there must be at least one NUMA node, so returning NUMA node zero\n",
      "2022-07-06 23:35:29.969746: I tensorflow/stream_executor/cuda/cuda_gpu_executor.cc:937] successful NUMA node read from SysFS had negative value (-1), but there must be at least one NUMA node, so returning NUMA node zero\n",
      "2022-07-06 23:35:29.970568: I tensorflow/stream_executor/cuda/cuda_gpu_executor.cc:937] successful NUMA node read from SysFS had negative value (-1), but there must be at least one NUMA node, so returning NUMA node zero\n",
      "2022-07-06 23:35:29.971660: I tensorflow/core/platform/cpu_feature_guard.cc:142] This TensorFlow binary is optimized with oneAPI Deep Neural Network Library (oneDNN) to use the following CPU instructions in performance-critical operations:  AVX2 AVX512F FMA\n",
      "To enable them in other operations, rebuild TensorFlow with the appropriate compiler flags.\n",
      "2022-07-06 23:35:29.971957: I tensorflow/stream_executor/cuda/cuda_gpu_executor.cc:937] successful NUMA node read from SysFS had negative value (-1), but there must be at least one NUMA node, so returning NUMA node zero\n",
      "2022-07-06 23:35:29.972630: I tensorflow/stream_executor/cuda/cuda_gpu_executor.cc:937] successful NUMA node read from SysFS had negative value (-1), but there must be at least one NUMA node, so returning NUMA node zero\n",
      "2022-07-06 23:35:29.973249: I tensorflow/stream_executor/cuda/cuda_gpu_executor.cc:937] successful NUMA node read from SysFS had negative value (-1), but there must be at least one NUMA node, so returning NUMA node zero\n",
      "2022-07-06 23:35:32.157877: I tensorflow/stream_executor/cuda/cuda_gpu_executor.cc:937] successful NUMA node read from SysFS had negative value (-1), but there must be at least one NUMA node, so returning NUMA node zero\n",
      "2022-07-06 23:35:32.158786: I tensorflow/stream_executor/cuda/cuda_gpu_executor.cc:937] successful NUMA node read from SysFS had negative value (-1), but there must be at least one NUMA node, so returning NUMA node zero\n",
      "2022-07-06 23:35:32.159439: I tensorflow/stream_executor/cuda/cuda_gpu_executor.cc:937] successful NUMA node read from SysFS had negative value (-1), but there must be at least one NUMA node, so returning NUMA node zero\n",
      "2022-07-06 23:35:32.160812: I tensorflow/core/common_runtime/gpu/gpu_device.cc:1510] Created device /job:localhost/replica:0/task:0/device:GPU:0 with 15403 MB memory:  -> device: 0, name: Tesla P100-PCIE-16GB, pci bus id: 0000:00:04.0, compute capability: 6.0\n"
     ]
    },
    {
     "name": "stdout",
     "output_type": "stream",
     "text": [
      "Downloading data from https://storage.googleapis.com/tensorflow/keras-applications/inception_v3/inception_v3_weights_tf_dim_ordering_tf_kernels_notop.h5\n",
      "87916544/87910968 [==============================] - 0s 0us/step\n",
      "87924736/87910968 [==============================] - 0s 0us/step\n"
     ]
    }
   ],
   "source": [
    "inception_model = create_inception_model()"
   ]
  },
  {
   "cell_type": "code",
   "execution_count": 15,
   "id": "5ccb1f7d",
   "metadata": {
    "execution": {
     "iopub.execute_input": "2022-07-06T23:35:35.025184Z",
     "iopub.status.busy": "2022-07-06T23:35:35.024526Z",
     "iopub.status.idle": "2022-07-06T23:35:35.028153Z",
     "shell.execute_reply": "2022-07-06T23:35:35.027373Z"
    },
    "papermill": {
     "duration": 0.027167,
     "end_time": "2022-07-06T23:35:35.030209",
     "exception": false,
     "start_time": "2022-07-06T23:35:35.003042",
     "status": "completed"
    },
    "tags": []
   },
   "outputs": [],
   "source": [
    "# inception_model.summary()"
   ]
  },
  {
   "cell_type": "code",
   "execution_count": 16,
   "id": "36b0ca06",
   "metadata": {
    "execution": {
     "iopub.execute_input": "2022-07-06T23:35:35.073109Z",
     "iopub.status.busy": "2022-07-06T23:35:35.072498Z",
     "iopub.status.idle": "2022-07-06T23:36:59.967097Z",
     "shell.execute_reply": "2022-07-06T23:36:59.966001Z"
    },
    "papermill": {
     "duration": 84.918364,
     "end_time": "2022-07-06T23:36:59.969674",
     "exception": false,
     "start_time": "2022-07-06T23:35:35.051310",
     "status": "completed"
    },
    "tags": []
   },
   "outputs": [
    {
     "name": "stderr",
     "output_type": "stream",
     "text": [
      "2022-07-06 23:35:35.252434: I tensorflow/compiler/mlir/mlir_graph_optimization_pass.cc:185] None of the MLIR Optimization Passes are enabled (registered 2)\n"
     ]
    },
    {
     "name": "stdout",
     "output_type": "stream",
     "text": [
      "Epoch 1/15\n"
     ]
    },
    {
     "name": "stderr",
     "output_type": "stream",
     "text": [
      "2022-07-06 23:35:40.240417: I tensorflow/stream_executor/cuda/cuda_dnn.cc:369] Loaded cuDNN version 8005\n"
     ]
    },
    {
     "name": "stdout",
     "output_type": "stream",
     "text": [
      "50/50 - 16s - loss: 0.2938 - accuracy: 0.8640 - val_loss: 0.3549 - val_accuracy: 0.8733\n",
      "Epoch 2/15\n",
      "50/50 - 5s - loss: 0.2841 - accuracy: 0.8900 - val_loss: 0.2359 - val_accuracy: 0.8867\n",
      "Epoch 3/15\n",
      "50/50 - 4s - loss: 0.3054 - accuracy: 0.8740 - val_loss: 0.2013 - val_accuracy: 0.9300\n",
      "Epoch 4/15\n",
      "50/50 - 4s - loss: 0.2272 - accuracy: 0.8960 - val_loss: 0.2187 - val_accuracy: 0.9033\n",
      "Epoch 5/15\n",
      "50/50 - 5s - loss: 0.2936 - accuracy: 0.8800 - val_loss: 0.2612 - val_accuracy: 0.8900\n",
      "Epoch 6/15\n",
      "50/50 - 5s - loss: 0.1847 - accuracy: 0.9240 - val_loss: 0.2989 - val_accuracy: 0.8700\n",
      "Epoch 7/15\n",
      "50/50 - 5s - loss: 0.2051 - accuracy: 0.9160 - val_loss: 0.2107 - val_accuracy: 0.9100\n",
      "Epoch 8/15\n",
      "50/50 - 4s - loss: 0.2655 - accuracy: 0.9060 - val_loss: 0.4241 - val_accuracy: 0.8600\n",
      "Epoch 9/15\n",
      "50/50 - 5s - loss: 0.2122 - accuracy: 0.9080 - val_loss: 0.1894 - val_accuracy: 0.9067\n",
      "Epoch 10/15\n",
      "50/50 - 4s - loss: 0.2427 - accuracy: 0.9000 - val_loss: 0.2748 - val_accuracy: 0.8900\n",
      "Epoch 11/15\n",
      "50/50 - 5s - loss: 0.2003 - accuracy: 0.9120 - val_loss: 0.2217 - val_accuracy: 0.9033\n",
      "Epoch 12/15\n",
      "50/50 - 5s - loss: 0.1706 - accuracy: 0.9260 - val_loss: 0.1674 - val_accuracy: 0.9233\n",
      "Epoch 13/15\n",
      "50/50 - 5s - loss: 0.1914 - accuracy: 0.9300 - val_loss: 0.1981 - val_accuracy: 0.8967\n",
      "Epoch 14/15\n",
      "50/50 - 5s - loss: 0.1835 - accuracy: 0.9240 - val_loss: 0.2390 - val_accuracy: 0.8967\n",
      "Epoch 15/15\n",
      "50/50 - 4s - loss: 0.2171 - accuracy: 0.9100 - val_loss: 0.2410 - val_accuracy: 0.9133\n"
     ]
    }
   ],
   "source": [
    "history = inception_model.fit(\n",
    "            train_generator,\n",
    "            steps_per_epoch=50,\n",
    "            epochs=15,\n",
    "            validation_data=validation_generator,\n",
    "            validation_steps=30,\n",
    "            verbose=2)"
   ]
  },
  {
   "cell_type": "code",
   "execution_count": 17,
   "id": "028bebde",
   "metadata": {
    "execution": {
     "iopub.execute_input": "2022-07-06T23:37:00.031396Z",
     "iopub.status.busy": "2022-07-06T23:37:00.031173Z",
     "iopub.status.idle": "2022-07-06T23:37:26.521242Z",
     "shell.execute_reply": "2022-07-06T23:37:26.520525Z"
    },
    "papermill": {
     "duration": 26.523454,
     "end_time": "2022-07-06T23:37:26.523706",
     "exception": false,
     "start_time": "2022-07-06T23:37:00.000252",
     "status": "completed"
    },
    "tags": []
   },
   "outputs": [],
   "source": [
    "X_test, Y_test = prepare_data(test_images_dogs_cats)  # Y_test in this case will be []"
   ]
  },
  {
   "cell_type": "code",
   "execution_count": 18,
   "id": "169e5e46",
   "metadata": {
    "execution": {
     "iopub.execute_input": "2022-07-06T23:37:26.586869Z",
     "iopub.status.busy": "2022-07-06T23:37:26.586380Z",
     "iopub.status.idle": "2022-07-06T23:38:32.480454Z",
     "shell.execute_reply": "2022-07-06T23:38:32.479764Z"
    },
    "papermill": {
     "duration": 65.928263,
     "end_time": "2022-07-06T23:38:32.482913",
     "exception": false,
     "start_time": "2022-07-06T23:37:26.554650",
     "status": "completed"
    },
    "tags": []
   },
   "outputs": [
    {
     "name": "stderr",
     "output_type": "stream",
     "text": [
      "/opt/conda/lib/python3.7/site-packages/keras/engine/training.py:2035: UserWarning: `Model.predict_generator` is deprecated and will be removed in a future version. Please use `Model.predict`, which supports generators.\n",
      "  warnings.warn('`Model.predict_generator` is deprecated and '\n"
     ]
    },
    {
     "name": "stdout",
     "output_type": "stream",
     "text": [
      "417/417 [==============================] - 62s 146ms/step\n"
     ]
    }
   ],
   "source": [
    "test_datagen = ImageDataGenerator(rescale=1. / 255)\n",
    "\n",
    "test_generator = val_datagen.flow(np.array(X_test), batch_size=30)\n",
    "\n",
    "prediction_probabilities = inception_model.predict_generator(test_generator, verbose=1)\n",
    "\n",
    "\n",
    "counter = range(1, len(test_images_dogs_cats) + 1)\n",
    "\n",
    "solution = pd.DataFrame({\"id\": counter, \"label\":list(prediction_probabilities)})\n",
    "\n",
    "cols = ['label']\n",
    "\n",
    "\n",
    "\n",
    "for col in cols:\n",
    "    solution[col] = solution[col].map(lambda x: str(x).lstrip('[').rstrip(']')).astype(float)\n",
    "\n",
    "\n",
    "\n",
    "solution.to_csv(\"dogsVScats.csv\", index = False)\n"
   ]
  },
  {
   "cell_type": "code",
   "execution_count": null,
   "id": "a79acbb6",
   "metadata": {
    "papermill": {
     "duration": 0.155932,
     "end_time": "2022-07-06T23:38:32.794621",
     "exception": false,
     "start_time": "2022-07-06T23:38:32.638689",
     "status": "completed"
    },
    "tags": []
   },
   "outputs": [],
   "source": []
  },
  {
   "cell_type": "code",
   "execution_count": null,
   "id": "5e15cbbc",
   "metadata": {
    "papermill": {
     "duration": 0.159382,
     "end_time": "2022-07-06T23:38:33.110455",
     "exception": false,
     "start_time": "2022-07-06T23:38:32.951073",
     "status": "completed"
    },
    "tags": []
   },
   "outputs": [],
   "source": []
  }
 ],
 "metadata": {
  "kernelspec": {
   "display_name": "Python 3",
   "language": "python",
   "name": "python3"
  },
  "language_info": {
   "codemirror_mode": {
    "name": "ipython",
    "version": 3
   },
   "file_extension": ".py",
   "mimetype": "text/x-python",
   "name": "python",
   "nbconvert_exporter": "python",
   "pygments_lexer": "ipython3",
   "version": "3.7.12"
  },
  "papermill": {
   "default_parameters": {},
   "duration": 226.414094,
   "end_time": "2022-07-06T23:38:37.070052",
   "environment_variables": {},
   "exception": null,
   "input_path": "__notebook__.ipynb",
   "output_path": "__notebook__.ipynb",
   "parameters": {},
   "start_time": "2022-07-06T23:34:50.655958",
   "version": "2.3.4"
  }
 },
 "nbformat": 4,
 "nbformat_minor": 5
}
