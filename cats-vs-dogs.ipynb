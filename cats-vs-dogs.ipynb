{
 "cells": [
  {
   "cell_type": "code",
   "execution_count": 1,
   "id": "a526af2b",
   "metadata": {
    "_cell_guid": "b1076dfc-b9ad-4769-8c92-a6c4dae69d19",
    "_uuid": "8f2839f25d086af736a60e9eeb907d3b93b6e0e5",
    "execution": {
     "iopub.execute_input": "2022-07-06T23:42:36.024059Z",
     "iopub.status.busy": "2022-07-06T23:42:36.023585Z",
     "iopub.status.idle": "2022-07-06T23:42:36.198126Z",
     "shell.execute_reply": "2022-07-06T23:42:36.197466Z"
    },
    "papermill": {
     "duration": 0.198167,
     "end_time": "2022-07-06T23:42:36.200767",
     "exception": false,
     "start_time": "2022-07-06T23:42:36.002600",
     "status": "completed"
    },
    "tags": []
   },
   "outputs": [
    {
     "name": "stdout",
     "output_type": "stream",
     "text": [
      "/kaggle/input/dogs-vs-cats-redux-kernels-edition/sample_submission.csv\n",
      "/kaggle/input/dogs-vs-cats-redux-kernels-edition/train.zip\n",
      "/kaggle/input/dogs-vs-cats-redux-kernels-edition/test.zip\n"
     ]
    }
   ],
   "source": [
    "# This Python 3 environment comes with many helpful analytics libraries installed\n",
    "# It is defined by the kaggle/python Docker image: https://github.com/kaggle/docker-python\n",
    "# For example, here's several helpful packages to load\n",
    "\n",
    "import numpy as np # linear algebra\n",
    "import pandas as pd # data processing, CSV file I/O (e.g. pd.read_csv)\n",
    "\n",
    "import os, cv2, re, random\n",
    "# Input data files are available in the read-only \"../input/\" directory\n",
    "# For example, running this (by clicking run or pressing Shift+Enter) will list all files under the input directory\n",
    "\n",
    "for dirname, _, filenames in os.walk('/kaggle/input'):\n",
    "    for filename in filenames:\n",
    "        print(os.path.join(dirname, filename))\n",
    "\n",
    "# You can write up to 20GB to the current directory (/kaggle/working/) that gets preserved as output when you create a version using \"Save & Run All\" \n",
    "# You can also write temporary files to /kaggle/temp/, but they won't be saved outside of the current session"
   ]
  },
  {
   "cell_type": "code",
   "execution_count": 2,
   "id": "f8b8ef09",
   "metadata": {
    "execution": {
     "iopub.execute_input": "2022-07-06T23:42:36.259940Z",
     "iopub.status.busy": "2022-07-06T23:42:36.259669Z",
     "iopub.status.idle": "2022-07-06T23:42:48.011545Z",
     "shell.execute_reply": "2022-07-06T23:42:48.010778Z"
    },
    "papermill": {
     "duration": 11.783811,
     "end_time": "2022-07-06T23:42:48.013888",
     "exception": false,
     "start_time": "2022-07-06T23:42:36.230077",
     "status": "completed"
    },
    "tags": []
   },
   "outputs": [],
   "source": [
    "import zipfile\n",
    "zip_df = zipfile.ZipFile(\"/kaggle/input/dogs-vs-cats-redux-kernels-edition/train.zip\", 'r')\n",
    "zip_df.extractall(\"/kaggle/working/\")\n",
    "zip_df.close()"
   ]
  },
  {
   "cell_type": "code",
   "execution_count": 3,
   "id": "c7a59fa3",
   "metadata": {
    "execution": {
     "iopub.execute_input": "2022-07-06T23:42:48.052249Z",
     "iopub.status.busy": "2022-07-06T23:42:48.051748Z",
     "iopub.status.idle": "2022-07-06T23:42:54.060274Z",
     "shell.execute_reply": "2022-07-06T23:42:54.059537Z"
    },
    "papermill": {
     "duration": 6.029548,
     "end_time": "2022-07-06T23:42:54.062300",
     "exception": false,
     "start_time": "2022-07-06T23:42:48.032752",
     "status": "completed"
    },
    "tags": []
   },
   "outputs": [],
   "source": [
    "zip_df = zipfile.ZipFile(\"/kaggle/input/dogs-vs-cats-redux-kernels-edition/test.zip\", 'r')\n",
    "zip_df.extractall(\"/kaggle/working/\")\n",
    "zip_df.close()"
   ]
  },
  {
   "cell_type": "code",
   "execution_count": 4,
   "id": "3376a5df",
   "metadata": {
    "execution": {
     "iopub.execute_input": "2022-07-06T23:42:54.100942Z",
     "iopub.status.busy": "2022-07-06T23:42:54.100705Z",
     "iopub.status.idle": "2022-07-06T23:42:54.128884Z",
     "shell.execute_reply": "2022-07-06T23:42:54.128075Z"
    },
    "papermill": {
     "duration": 0.049157,
     "end_time": "2022-07-06T23:42:54.130907",
     "exception": false,
     "start_time": "2022-07-06T23:42:54.081750",
     "status": "completed"
    },
    "tags": []
   },
   "outputs": [],
   "source": [
    "#  we need all the images to be at the same size as we don't want errors in the input shape\n",
    "img_width = 150  \n",
    "img_height = 150\n",
    "\n",
    "TRAIN_DIR = './train/'  # here is the trianing directory to the folder where we have the images\n",
    "TEST_DIR = './test/'  # here is the testing directory to the folder where we have the images\n",
    "\n",
    "#this will return a list containing all the images inside the directory you passed.\n",
    "# print(os.listdir(TRAIN_DIR))\n",
    "\n",
    "# These two lines will make two lists one for training and one for testing each containing\n",
    "# all the directory for every image.\n",
    "train_images_dogs_cats = [TRAIN_DIR+i for i in os.listdir(TRAIN_DIR)] \n",
    "test_images_dogs_cats = [TEST_DIR+i for i in os.listdir(TEST_DIR)]"
   ]
  },
  {
   "cell_type": "code",
   "execution_count": 5,
   "id": "08336f7f",
   "metadata": {
    "execution": {
     "iopub.execute_input": "2022-07-06T23:42:54.169957Z",
     "iopub.status.busy": "2022-07-06T23:42:54.169718Z",
     "iopub.status.idle": "2022-07-06T23:42:54.365688Z",
     "shell.execute_reply": "2022-07-06T23:42:54.364971Z"
    },
    "papermill": {
     "duration": 0.219146,
     "end_time": "2022-07-06T23:42:54.367910",
     "exception": false,
     "start_time": "2022-07-06T23:42:54.148764",
     "status": "completed"
    },
    "tags": []
   },
   "outputs": [],
   "source": [
    "import re\n",
    "\n",
    "# Helper function to sort the image files based on the numeric value in each file name.\n",
    "# you don't have to apply them and the code will work and everything will be fine\n",
    "def atoi(text):\n",
    "    return int(text) if text.isdigit() else text\n",
    "\n",
    "def natural_keys(text):\n",
    "    return [ atoi(c) for c in re.split('(\\d+)', text) ]\n",
    "\n",
    "# print(train_images_dogs_cats[:5])\n",
    "train_images_dogs_cats.sort(key=natural_keys)\n",
    "\n",
    "test_images_dogs_cats.sort(key=natural_keys)"
   ]
  },
  {
   "cell_type": "code",
   "execution_count": 6,
   "id": "38be75d5",
   "metadata": {
    "execution": {
     "iopub.execute_input": "2022-07-06T23:42:54.405495Z",
     "iopub.status.busy": "2022-07-06T23:42:54.405246Z",
     "iopub.status.idle": "2022-07-06T23:42:54.409963Z",
     "shell.execute_reply": "2022-07-06T23:42:54.409190Z"
    },
    "papermill": {
     "duration": 0.026269,
     "end_time": "2022-07-06T23:42:54.411977",
     "exception": false,
     "start_time": "2022-07-06T23:42:54.385708",
     "status": "completed"
    },
    "tags": []
   },
   "outputs": [],
   "source": [
    "# There are 25000 images for training and testing 12500 for dogs 12500 for cats.\n",
    "train_images_dogs_cats = train_images_dogs_cats[0:2000] + train_images_dogs_cats[12500:14500] \n",
    "# valid_images_dogs_cats = train_images_dogs_cats[3000:4000] + train_images_dogs_cats[15500:16500]"
   ]
  },
  {
   "cell_type": "code",
   "execution_count": 7,
   "id": "9c21f291",
   "metadata": {
    "execution": {
     "iopub.execute_input": "2022-07-06T23:42:54.449133Z",
     "iopub.status.busy": "2022-07-06T23:42:54.448916Z",
     "iopub.status.idle": "2022-07-06T23:42:54.452152Z",
     "shell.execute_reply": "2022-07-06T23:42:54.451394Z"
    },
    "papermill": {
     "duration": 0.02368,
     "end_time": "2022-07-06T23:42:54.454064",
     "exception": false,
     "start_time": "2022-07-06T23:42:54.430384",
     "status": "completed"
    },
    "tags": []
   },
   "outputs": [],
   "source": [
    "# img = train_images_dogs_cats[0]\n",
    "# print(img)\n",
    "# img = cv2.imread(img)\n",
    "# img\n",
    "# # cv2.imshow('image', img)"
   ]
  },
  {
   "cell_type": "code",
   "execution_count": 8,
   "id": "67f647fb",
   "metadata": {
    "execution": {
     "iopub.execute_input": "2022-07-06T23:42:54.491007Z",
     "iopub.status.busy": "2022-07-06T23:42:54.490521Z",
     "iopub.status.idle": "2022-07-06T23:42:54.497806Z",
     "shell.execute_reply": "2022-07-06T23:42:54.497129Z"
    },
    "papermill": {
     "duration": 0.02797,
     "end_time": "2022-07-06T23:42:54.499517",
     "exception": false,
     "start_time": "2022-07-06T23:42:54.471547",
     "status": "completed"
    },
    "tags": []
   },
   "outputs": [],
   "source": [
    "def prepare_data(list_of_images):\n",
    "    \"\"\"\n",
    "    Returns two arrays: \n",
    "    x is an array of resized images\n",
    "    y is an array of labels\n",
    "    \"\"\"\n",
    "    x = [] # images as arrays\n",
    "    y = [] # labels\n",
    "\n",
    "    # this will append each image in x list with resizing it.\n",
    "    for image in list_of_images:\n",
    "        x.append(cv2.resize(cv2.imread(image), (img_width,img_height), interpolation=cv2.INTER_CUBIC))\n",
    "    \n",
    "    # As we can't deal with categorical labels we need to change the labels to numerical such 0, 1\n",
    "    # This code does this for us as it changes dog to 1, cat to 0\n",
    "    for i in list_of_images:\n",
    "        if 'dog' in i:\n",
    "            y.append(1)\n",
    "        elif 'cat' in i:\n",
    "            y.append(0)\n",
    "\n",
    "    return x, y"
   ]
  },
  {
   "cell_type": "code",
   "execution_count": 9,
   "id": "3cea665b",
   "metadata": {
    "execution": {
     "iopub.execute_input": "2022-07-06T23:42:54.537054Z",
     "iopub.status.busy": "2022-07-06T23:42:54.536376Z",
     "iopub.status.idle": "2022-07-06T23:43:04.319674Z",
     "shell.execute_reply": "2022-07-06T23:43:04.318921Z"
    },
    "papermill": {
     "duration": 9.804643,
     "end_time": "2022-07-06T23:43:04.322267",
     "exception": false,
     "start_time": "2022-07-06T23:42:54.517624",
     "status": "completed"
    },
    "tags": []
   },
   "outputs": [],
   "source": [
    "X, Y = prepare_data(train_images_dogs_cats)"
   ]
  },
  {
   "cell_type": "code",
   "execution_count": 10,
   "id": "a8e582dd",
   "metadata": {
    "execution": {
     "iopub.execute_input": "2022-07-06T23:43:04.358534Z",
     "iopub.status.busy": "2022-07-06T23:43:04.358293Z",
     "iopub.status.idle": "2022-07-06T23:43:05.265530Z",
     "shell.execute_reply": "2022-07-06T23:43:05.264779Z"
    },
    "papermill": {
     "duration": 0.927689,
     "end_time": "2022-07-06T23:43:05.267784",
     "exception": false,
     "start_time": "2022-07-06T23:43:04.340095",
     "status": "completed"
    },
    "tags": []
   },
   "outputs": [],
   "source": [
    "from sklearn.model_selection import train_test_split\n",
    "\n",
    "X_train, X_val, Y_train, Y_val = train_test_split(X, Y, test_size=0.3, shuffle=1)"
   ]
  },
  {
   "cell_type": "code",
   "execution_count": 11,
   "id": "f6706874",
   "metadata": {
    "execution": {
     "iopub.execute_input": "2022-07-06T23:43:05.305527Z",
     "iopub.status.busy": "2022-07-06T23:43:05.304897Z",
     "iopub.status.idle": "2022-07-06T23:43:10.206518Z",
     "shell.execute_reply": "2022-07-06T23:43:10.205759Z"
    },
    "papermill": {
     "duration": 4.923241,
     "end_time": "2022-07-06T23:43:10.209043",
     "exception": false,
     "start_time": "2022-07-06T23:43:05.285802",
     "status": "completed"
    },
    "tags": []
   },
   "outputs": [],
   "source": [
    "from keras.preprocessing.image import ImageDataGenerator\n",
    "\n",
    "train_datagen = ImageDataGenerator(\n",
    "        rescale=1 / 255.0,\n",
    "        rotation_range=30,\n",
    "        zoom_range=0.3,\n",
    "        width_shift_range=0.2,\n",
    "        height_shift_range=0.2,\n",
    "        shear_range=0.2,\n",
    "        horizontal_flip=True,\n",
    "        fill_mode=\"nearest\",\n",
    "        validation_split=0.20\n",
    " )\n",
    "\n",
    "val_datagen = ImageDataGenerator(\n",
    "        rescale=1 / 255.0,\n",
    "        rotation_range=30,\n",
    "        zoom_range=0.3,\n",
    "        width_shift_range=0.2,\n",
    "        height_shift_range=0.2,\n",
    "        shear_range=0.2,\n",
    "        horizontal_flip=True,\n",
    "        fill_mode=\"nearest\",\n",
    "        validation_split=0.20\n",
    "        )"
   ]
  },
  {
   "cell_type": "code",
   "execution_count": 12,
   "id": "18878443",
   "metadata": {
    "execution": {
     "iopub.execute_input": "2022-07-06T23:43:10.246477Z",
     "iopub.status.busy": "2022-07-06T23:43:10.246220Z",
     "iopub.status.idle": "2022-07-06T23:43:11.086870Z",
     "shell.execute_reply": "2022-07-06T23:43:11.086138Z"
    },
    "papermill": {
     "duration": 0.863125,
     "end_time": "2022-07-06T23:43:11.090106",
     "exception": false,
     "start_time": "2022-07-06T23:43:10.226981",
     "status": "completed"
    },
    "tags": []
   },
   "outputs": [],
   "source": [
    "train_generator = train_datagen.flow(np.array(X_train), Y_train, batch_size=10)\n",
    "\n",
    "validation_generator = val_datagen.flow(np.array(X_val), Y_val, batch_size=10)"
   ]
  },
  {
   "cell_type": "code",
   "execution_count": 13,
   "id": "17664d12",
   "metadata": {
    "execution": {
     "iopub.execute_input": "2022-07-06T23:43:11.139262Z",
     "iopub.status.busy": "2022-07-06T23:43:11.139022Z",
     "iopub.status.idle": "2022-07-06T23:43:11.148133Z",
     "shell.execute_reply": "2022-07-06T23:43:11.147446Z"
    },
    "papermill": {
     "duration": 0.030314,
     "end_time": "2022-07-06T23:43:11.150011",
     "exception": false,
     "start_time": "2022-07-06T23:43:11.119697",
     "status": "completed"
    },
    "tags": []
   },
   "outputs": [],
   "source": [
    "from tensorflow.keras.applications.inception_v3 import InceptionV3\n",
    "import tensorflow as tf\n",
    "from tensorflow.keras import layers\n",
    "from tensorflow.keras.optimizers import RMSprop\n",
    "\n",
    "def create_inception_model():\n",
    "    base_model = InceptionV3(input_shape = (150, 150, 3), include_top = False, weights = 'imagenet') \n",
    "    \n",
    "    for layer in base_model.layers:\n",
    "        layer.trainable = False\n",
    "        \n",
    "    x = layers.Flatten()(base_model.output)\n",
    "    x = layers.Dense(512, activation='relu')(x)\n",
    "    x = layers.BatchNormalization()(x)\n",
    "    x = layers.Dropout(0.2)(x)\n",
    "    x = layers.Dense(256, activation='relu')(x)\n",
    "    # Add a final sigmoid layer with 1 node for classification output\n",
    "    x = layers.Dense(1, activation='sigmoid')(x)\n",
    "    model = tf.keras.models.Model(base_model.input, x)\n",
    "    model.compile(optimizer = RMSprop(learning_rate=0.0001), loss = 'binary_crossentropy', metrics = ['accuracy'])\n",
    "    return model"
   ]
  },
  {
   "cell_type": "code",
   "execution_count": 14,
   "id": "0e6a6876",
   "metadata": {
    "execution": {
     "iopub.execute_input": "2022-07-06T23:43:11.186962Z",
     "iopub.status.busy": "2022-07-06T23:43:11.186508Z",
     "iopub.status.idle": "2022-07-06T23:43:16.531893Z",
     "shell.execute_reply": "2022-07-06T23:43:16.531185Z"
    },
    "papermill": {
     "duration": 5.365778,
     "end_time": "2022-07-06T23:43:16.533916",
     "exception": false,
     "start_time": "2022-07-06T23:43:11.168138",
     "status": "completed"
    },
    "tags": []
   },
   "outputs": [
    {
     "name": "stderr",
     "output_type": "stream",
     "text": [
      "2022-07-06 23:43:11.295512: I tensorflow/stream_executor/cuda/cuda_gpu_executor.cc:937] successful NUMA node read from SysFS had negative value (-1), but there must be at least one NUMA node, so returning NUMA node zero\n",
      "2022-07-06 23:43:11.436071: I tensorflow/stream_executor/cuda/cuda_gpu_executor.cc:937] successful NUMA node read from SysFS had negative value (-1), but there must be at least one NUMA node, so returning NUMA node zero\n",
      "2022-07-06 23:43:11.436968: I tensorflow/stream_executor/cuda/cuda_gpu_executor.cc:937] successful NUMA node read from SysFS had negative value (-1), but there must be at least one NUMA node, so returning NUMA node zero\n",
      "2022-07-06 23:43:11.438278: I tensorflow/core/platform/cpu_feature_guard.cc:142] This TensorFlow binary is optimized with oneAPI Deep Neural Network Library (oneDNN) to use the following CPU instructions in performance-critical operations:  AVX2 AVX512F FMA\n",
      "To enable them in other operations, rebuild TensorFlow with the appropriate compiler flags.\n",
      "2022-07-06 23:43:11.438705: I tensorflow/stream_executor/cuda/cuda_gpu_executor.cc:937] successful NUMA node read from SysFS had negative value (-1), but there must be at least one NUMA node, so returning NUMA node zero\n",
      "2022-07-06 23:43:11.439492: I tensorflow/stream_executor/cuda/cuda_gpu_executor.cc:937] successful NUMA node read from SysFS had negative value (-1), but there must be at least one NUMA node, so returning NUMA node zero\n",
      "2022-07-06 23:43:11.440112: I tensorflow/stream_executor/cuda/cuda_gpu_executor.cc:937] successful NUMA node read from SysFS had negative value (-1), but there must be at least one NUMA node, so returning NUMA node zero\n",
      "2022-07-06 23:43:13.603765: I tensorflow/stream_executor/cuda/cuda_gpu_executor.cc:937] successful NUMA node read from SysFS had negative value (-1), but there must be at least one NUMA node, so returning NUMA node zero\n",
      "2022-07-06 23:43:13.604586: I tensorflow/stream_executor/cuda/cuda_gpu_executor.cc:937] successful NUMA node read from SysFS had negative value (-1), but there must be at least one NUMA node, so returning NUMA node zero\n",
      "2022-07-06 23:43:13.605250: I tensorflow/stream_executor/cuda/cuda_gpu_executor.cc:937] successful NUMA node read from SysFS had negative value (-1), but there must be at least one NUMA node, so returning NUMA node zero\n",
      "2022-07-06 23:43:13.606564: I tensorflow/core/common_runtime/gpu/gpu_device.cc:1510] Created device /job:localhost/replica:0/task:0/device:GPU:0 with 15403 MB memory:  -> device: 0, name: Tesla P100-PCIE-16GB, pci bus id: 0000:00:04.0, compute capability: 6.0\n"
     ]
    },
    {
     "name": "stdout",
     "output_type": "stream",
     "text": [
      "Downloading data from https://storage.googleapis.com/tensorflow/keras-applications/inception_v3/inception_v3_weights_tf_dim_ordering_tf_kernels_notop.h5\n",
      "87916544/87910968 [==============================] - 0s 0us/step\n",
      "87924736/87910968 [==============================] - 0s 0us/step\n"
     ]
    }
   ],
   "source": [
    "inception_model = create_inception_model()"
   ]
  },
  {
   "cell_type": "code",
   "execution_count": 15,
   "id": "55aa2619",
   "metadata": {
    "execution": {
     "iopub.execute_input": "2022-07-06T23:43:16.581169Z",
     "iopub.status.busy": "2022-07-06T23:43:16.580503Z",
     "iopub.status.idle": "2022-07-06T23:43:16.584773Z",
     "shell.execute_reply": "2022-07-06T23:43:16.584109Z"
    },
    "papermill": {
     "duration": 0.030178,
     "end_time": "2022-07-06T23:43:16.586680",
     "exception": false,
     "start_time": "2022-07-06T23:43:16.556502",
     "status": "completed"
    },
    "tags": []
   },
   "outputs": [],
   "source": [
    "# inception_model.summary()"
   ]
  },
  {
   "cell_type": "code",
   "execution_count": 16,
   "id": "d26dc4aa",
   "metadata": {
    "execution": {
     "iopub.execute_input": "2022-07-06T23:43:16.633544Z",
     "iopub.status.busy": "2022-07-06T23:43:16.632824Z",
     "iopub.status.idle": "2022-07-06T23:45:26.615407Z",
     "shell.execute_reply": "2022-07-06T23:45:26.614713Z"
    },
    "papermill": {
     "duration": 130.007416,
     "end_time": "2022-07-06T23:45:26.617212",
     "exception": false,
     "start_time": "2022-07-06T23:43:16.609796",
     "status": "completed"
    },
    "tags": []
   },
   "outputs": [
    {
     "name": "stderr",
     "output_type": "stream",
     "text": [
      "2022-07-06 23:43:16.761476: I tensorflow/compiler/mlir/mlir_graph_optimization_pass.cc:185] None of the MLIR Optimization Passes are enabled (registered 2)\n"
     ]
    },
    {
     "name": "stdout",
     "output_type": "stream",
     "text": [
      "Epoch 1/20\n"
     ]
    },
    {
     "name": "stderr",
     "output_type": "stream",
     "text": [
      "2022-07-06 23:43:21.803736: I tensorflow/stream_executor/cuda/cuda_dnn.cc:369] Loaded cuDNN version 8005\n"
     ]
    },
    {
     "name": "stdout",
     "output_type": "stream",
     "text": [
      "50/50 - 17s - loss: 0.3310 - accuracy: 0.8540 - val_loss: 0.2057 - val_accuracy: 0.9100\n",
      "Epoch 2/20\n",
      "50/50 - 5s - loss: 0.2959 - accuracy: 0.8620 - val_loss: 0.1655 - val_accuracy: 0.9333\n",
      "Epoch 3/20\n",
      "50/50 - 4s - loss: 0.2877 - accuracy: 0.8820 - val_loss: 0.2392 - val_accuracy: 0.8767\n",
      "Epoch 4/20\n",
      "50/50 - 5s - loss: 0.2694 - accuracy: 0.8780 - val_loss: 0.2147 - val_accuracy: 0.8967\n",
      "Epoch 5/20\n",
      "50/50 - 4s - loss: 0.2687 - accuracy: 0.8900 - val_loss: 0.2230 - val_accuracy: 0.9100\n",
      "Epoch 6/20\n",
      "50/50 - 5s - loss: 0.2259 - accuracy: 0.9140 - val_loss: 0.2324 - val_accuracy: 0.8933\n",
      "Epoch 7/20\n",
      "50/50 - 5s - loss: 0.2182 - accuracy: 0.8900 - val_loss: 0.2091 - val_accuracy: 0.9100\n",
      "Epoch 8/20\n",
      "50/50 - 5s - loss: 0.2435 - accuracy: 0.9060 - val_loss: 0.1446 - val_accuracy: 0.9300\n",
      "Epoch 9/20\n",
      "50/50 - 4s - loss: 0.2172 - accuracy: 0.9060 - val_loss: 0.1426 - val_accuracy: 0.9400\n",
      "Epoch 10/20\n",
      "50/50 - 5s - loss: 0.2005 - accuracy: 0.9160 - val_loss: 0.1958 - val_accuracy: 0.9067\n",
      "Epoch 11/20\n",
      "50/50 - 5s - loss: 0.1896 - accuracy: 0.9240 - val_loss: 0.1951 - val_accuracy: 0.9167\n",
      "Epoch 12/20\n",
      "50/50 - 5s - loss: 0.3210 - accuracy: 0.8800 - val_loss: 0.2270 - val_accuracy: 0.9000\n",
      "Epoch 13/20\n",
      "50/50 - 5s - loss: 0.2123 - accuracy: 0.8980 - val_loss: 0.2127 - val_accuracy: 0.8967\n",
      "Epoch 14/20\n",
      "50/50 - 5s - loss: 0.2000 - accuracy: 0.9140 - val_loss: 0.2094 - val_accuracy: 0.9033\n",
      "Epoch 15/20\n",
      "50/50 - 4s - loss: 0.1797 - accuracy: 0.9260 - val_loss: 0.2159 - val_accuracy: 0.9167\n",
      "Epoch 16/20\n",
      "50/50 - 5s - loss: 0.2136 - accuracy: 0.9040 - val_loss: 0.2491 - val_accuracy: 0.9000\n",
      "Epoch 17/20\n",
      "50/50 - 4s - loss: 0.1821 - accuracy: 0.9120 - val_loss: 0.2249 - val_accuracy: 0.9000\n",
      "Epoch 18/20\n",
      "50/50 - 4s - loss: 0.2313 - accuracy: 0.9000 - val_loss: 0.1769 - val_accuracy: 0.9267\n",
      "Epoch 19/20\n",
      "50/50 - 5s - loss: 0.2139 - accuracy: 0.9100 - val_loss: 0.2699 - val_accuracy: 0.8867\n",
      "Epoch 20/20\n",
      "50/50 - 5s - loss: 0.2020 - accuracy: 0.9120 - val_loss: 0.2004 - val_accuracy: 0.9033\n"
     ]
    }
   ],
   "source": [
    "history = inception_model.fit(\n",
    "            train_generator,\n",
    "            steps_per_epoch=50,\n",
    "            epochs=20,\n",
    "            validation_data=validation_generator,\n",
    "            validation_steps=30,\n",
    "            verbose=2)"
   ]
  },
  {
   "cell_type": "code",
   "execution_count": 17,
   "id": "d9f33ac4",
   "metadata": {
    "execution": {
     "iopub.execute_input": "2022-07-06T23:45:26.691012Z",
     "iopub.status.busy": "2022-07-06T23:45:26.690268Z",
     "iopub.status.idle": "2022-07-06T23:45:54.294154Z",
     "shell.execute_reply": "2022-07-06T23:45:54.293285Z"
    },
    "papermill": {
     "duration": 27.643122,
     "end_time": "2022-07-06T23:45:54.296331",
     "exception": false,
     "start_time": "2022-07-06T23:45:26.653209",
     "status": "completed"
    },
    "tags": []
   },
   "outputs": [],
   "source": [
    "X_test, Y_test = prepare_data(test_images_dogs_cats)  # Y_test in this case will be []"
   ]
  },
  {
   "cell_type": "code",
   "execution_count": 18,
   "id": "ce31f0aa",
   "metadata": {
    "execution": {
     "iopub.execute_input": "2022-07-06T23:45:54.370085Z",
     "iopub.status.busy": "2022-07-06T23:45:54.369558Z",
     "iopub.status.idle": "2022-07-06T23:47:21.689927Z",
     "shell.execute_reply": "2022-07-06T23:47:21.689201Z"
    },
    "papermill": {
     "duration": 87.359469,
     "end_time": "2022-07-06T23:47:21.692181",
     "exception": false,
     "start_time": "2022-07-06T23:45:54.332712",
     "status": "completed"
    },
    "tags": []
   },
   "outputs": [
    {
     "name": "stderr",
     "output_type": "stream",
     "text": [
      "/opt/conda/lib/python3.7/site-packages/keras/engine/training.py:2035: UserWarning: `Model.predict_generator` is deprecated and will be removed in a future version. Please use `Model.predict`, which supports generators.\n",
      "  warnings.warn('`Model.predict_generator` is deprecated and '\n"
     ]
    },
    {
     "name": "stdout",
     "output_type": "stream",
     "text": [
      "417/417 [==============================] - 64s 150ms/step\n"
     ]
    }
   ],
   "source": [
    "test_datagen = ImageDataGenerator(rescale=1. / 255)\n",
    "\n",
    "test_generator = val_datagen.flow(np.array(X_test), batch_size=30)\n",
    "\n",
    "prediction_probabilities = inception_model.predict_generator(test_generator, verbose=1)\n",
    "\n",
    "\n",
    "counter = range(1, len(test_images_dogs_cats) + 1)\n",
    "\n",
    "solution = pd.DataFrame({\"id\": counter, \"label\":list(prediction_probabilities)})\n",
    "\n",
    "cols = ['label']\n",
    "\n",
    "\n",
    "\n",
    "for col in cols:\n",
    "    solution[col] = solution[col].map(lambda x: str(x).lstrip('[').rstrip(']')).astype(float)\n",
    "\n",
    "\n",
    "\n",
    "solution.to_csv(\"dogsVScats.csv\", index = False)\n"
   ]
  },
  {
   "cell_type": "code",
   "execution_count": null,
   "id": "e4e7a014",
   "metadata": {
    "papermill": {
     "duration": 0.166958,
     "end_time": "2022-07-06T23:47:22.026013",
     "exception": false,
     "start_time": "2022-07-06T23:47:21.859055",
     "status": "completed"
    },
    "tags": []
   },
   "outputs": [],
   "source": []
  },
  {
   "cell_type": "code",
   "execution_count": null,
   "id": "47ebf738",
   "metadata": {
    "papermill": {
     "duration": 0.163063,
     "end_time": "2022-07-06T23:47:22.353869",
     "exception": false,
     "start_time": "2022-07-06T23:47:22.190806",
     "status": "completed"
    },
    "tags": []
   },
   "outputs": [],
   "source": []
  }
 ],
 "metadata": {
  "kernelspec": {
   "display_name": "Python 3",
   "language": "python",
   "name": "python3"
  },
  "language_info": {
   "codemirror_mode": {
    "name": "ipython",
    "version": 3
   },
   "file_extension": ".py",
   "mimetype": "text/x-python",
   "name": "python",
   "nbconvert_exporter": "python",
   "pygments_lexer": "ipython3",
   "version": "3.7.12"
  },
  "papermill": {
   "default_parameters": {},
   "duration": 298.471282,
   "end_time": "2022-07-06T23:47:25.843027",
   "environment_variables": {},
   "exception": null,
   "input_path": "__notebook__.ipynb",
   "output_path": "__notebook__.ipynb",
   "parameters": {},
   "start_time": "2022-07-06T23:42:27.371745",
   "version": "2.3.4"
  }
 },
 "nbformat": 4,
 "nbformat_minor": 5
}
