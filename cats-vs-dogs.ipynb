{
 "cells": [
  {
   "cell_type": "code",
   "execution_count": 1,
   "id": "c7765b4a",
   "metadata": {
    "_cell_guid": "b1076dfc-b9ad-4769-8c92-a6c4dae69d19",
    "_uuid": "8f2839f25d086af736a60e9eeb907d3b93b6e0e5",
    "execution": {
     "iopub.execute_input": "2022-07-06T23:20:43.547557Z",
     "iopub.status.busy": "2022-07-06T23:20:43.547112Z",
     "iopub.status.idle": "2022-07-06T23:20:43.724941Z",
     "shell.execute_reply": "2022-07-06T23:20:43.722909Z"
    },
    "papermill": {
     "duration": 0.201858,
     "end_time": "2022-07-06T23:20:43.727340",
     "exception": false,
     "start_time": "2022-07-06T23:20:43.525482",
     "status": "completed"
    },
    "tags": []
   },
   "outputs": [
    {
     "name": "stdout",
     "output_type": "stream",
     "text": [
      "/kaggle/input/dogs-vs-cats-redux-kernels-edition/sample_submission.csv\n",
      "/kaggle/input/dogs-vs-cats-redux-kernels-edition/train.zip\n",
      "/kaggle/input/dogs-vs-cats-redux-kernels-edition/test.zip\n"
     ]
    }
   ],
   "source": [
    "# This Python 3 environment comes with many helpful analytics libraries installed\n",
    "# It is defined by the kaggle/python Docker image: https://github.com/kaggle/docker-python\n",
    "# For example, here's several helpful packages to load\n",
    "\n",
    "import numpy as np # linear algebra\n",
    "import pandas as pd # data processing, CSV file I/O (e.g. pd.read_csv)\n",
    "\n",
    "import os, cv2, re, random\n",
    "# Input data files are available in the read-only \"../input/\" directory\n",
    "# For example, running this (by clicking run or pressing Shift+Enter) will list all files under the input directory\n",
    "\n",
    "for dirname, _, filenames in os.walk('/kaggle/input'):\n",
    "    for filename in filenames:\n",
    "        print(os.path.join(dirname, filename))\n",
    "\n",
    "# You can write up to 20GB to the current directory (/kaggle/working/) that gets preserved as output when you create a version using \"Save & Run All\" \n",
    "# You can also write temporary files to /kaggle/temp/, but they won't be saved outside of the current session"
   ]
  },
  {
   "cell_type": "code",
   "execution_count": 2,
   "id": "59addcb6",
   "metadata": {
    "execution": {
     "iopub.execute_input": "2022-07-06T23:20:43.765328Z",
     "iopub.status.busy": "2022-07-06T23:20:43.765106Z",
     "iopub.status.idle": "2022-07-06T23:20:54.825517Z",
     "shell.execute_reply": "2022-07-06T23:20:54.824776Z"
    },
    "papermill": {
     "duration": 11.081522,
     "end_time": "2022-07-06T23:20:54.827643",
     "exception": false,
     "start_time": "2022-07-06T23:20:43.746121",
     "status": "completed"
    },
    "tags": []
   },
   "outputs": [],
   "source": [
    "import zipfile\n",
    "zip_df = zipfile.ZipFile(\"/kaggle/input/dogs-vs-cats-redux-kernels-edition/train.zip\", 'r')\n",
    "zip_df.extractall(\"/kaggle/working/\")\n",
    "zip_df.close()"
   ]
  },
  {
   "cell_type": "code",
   "execution_count": 3,
   "id": "b855f382",
   "metadata": {
    "execution": {
     "iopub.execute_input": "2022-07-06T23:20:54.864373Z",
     "iopub.status.busy": "2022-07-06T23:20:54.864133Z",
     "iopub.status.idle": "2022-07-06T23:21:00.175342Z",
     "shell.execute_reply": "2022-07-06T23:21:00.174597Z"
    },
    "papermill": {
     "duration": 5.331653,
     "end_time": "2022-07-06T23:21:00.177395",
     "exception": false,
     "start_time": "2022-07-06T23:20:54.845742",
     "status": "completed"
    },
    "tags": []
   },
   "outputs": [],
   "source": [
    "zip_df = zipfile.ZipFile(\"/kaggle/input/dogs-vs-cats-redux-kernels-edition/test.zip\", 'r')\n",
    "zip_df.extractall(\"/kaggle/working/\")\n",
    "zip_df.close()"
   ]
  },
  {
   "cell_type": "code",
   "execution_count": 4,
   "id": "e181fe93",
   "metadata": {
    "execution": {
     "iopub.execute_input": "2022-07-06T23:21:00.216307Z",
     "iopub.status.busy": "2022-07-06T23:21:00.216033Z",
     "iopub.status.idle": "2022-07-06T23:21:00.243130Z",
     "shell.execute_reply": "2022-07-06T23:21:00.242424Z"
    },
    "papermill": {
     "duration": 0.047746,
     "end_time": "2022-07-06T23:21:00.244891",
     "exception": false,
     "start_time": "2022-07-06T23:21:00.197145",
     "status": "completed"
    },
    "tags": []
   },
   "outputs": [],
   "source": [
    "#  we need all the images to be at the same size as we don't want errors in the input shape\n",
    "img_width = 150  \n",
    "img_height = 150\n",
    "\n",
    "TRAIN_DIR = './train/'  # here is the trianing directory to the folder where we have the images\n",
    "TEST_DIR = './test/'  # here is the testing directory to the folder where we have the images\n",
    "\n",
    "#this will return a list containing all the images inside the directory you passed.\n",
    "# print(os.listdir(TRAIN_DIR))\n",
    "\n",
    "# These two lines will make two lists one for training and one for testing each containing\n",
    "# all the directory for every image.\n",
    "train_images_dogs_cats = [TRAIN_DIR+i for i in os.listdir(TRAIN_DIR)] \n",
    "test_images_dogs_cats = [TEST_DIR+i for i in os.listdir(TEST_DIR)]"
   ]
  },
  {
   "cell_type": "code",
   "execution_count": 5,
   "id": "a53db737",
   "metadata": {
    "execution": {
     "iopub.execute_input": "2022-07-06T23:21:00.283151Z",
     "iopub.status.busy": "2022-07-06T23:21:00.282904Z",
     "iopub.status.idle": "2022-07-06T23:21:00.474044Z",
     "shell.execute_reply": "2022-07-06T23:21:00.473304Z"
    },
    "papermill": {
     "duration": 0.214099,
     "end_time": "2022-07-06T23:21:00.476491",
     "exception": false,
     "start_time": "2022-07-06T23:21:00.262392",
     "status": "completed"
    },
    "tags": []
   },
   "outputs": [],
   "source": [
    "import re\n",
    "\n",
    "# Helper function to sort the image files based on the numeric value in each file name.\n",
    "# you don't have to apply them and the code will work and everything will be fine\n",
    "def atoi(text):\n",
    "    return int(text) if text.isdigit() else text\n",
    "\n",
    "def natural_keys(text):\n",
    "    return [ atoi(c) for c in re.split('(\\d+)', text) ]\n",
    "\n",
    "# print(train_images_dogs_cats[:5])\n",
    "train_images_dogs_cats.sort(key=natural_keys)\n",
    "\n",
    "test_images_dogs_cats.sort(key=natural_keys)"
   ]
  },
  {
   "cell_type": "code",
   "execution_count": 6,
   "id": "0cc9f569",
   "metadata": {
    "execution": {
     "iopub.execute_input": "2022-07-06T23:21:00.512759Z",
     "iopub.status.busy": "2022-07-06T23:21:00.512532Z",
     "iopub.status.idle": "2022-07-06T23:21:00.517413Z",
     "shell.execute_reply": "2022-07-06T23:21:00.516737Z"
    },
    "papermill": {
     "duration": 0.025081,
     "end_time": "2022-07-06T23:21:00.519017",
     "exception": false,
     "start_time": "2022-07-06T23:21:00.493936",
     "status": "completed"
    },
    "tags": []
   },
   "outputs": [],
   "source": [
    "# There are 25000 images for training and testing 12500 for dogs 12500 for cats.\n",
    "train_images_dogs_cats = train_images_dogs_cats[0:1000] + train_images_dogs_cats[12500:13500] \n",
    "# valid_images_dogs_cats = train_images_dogs_cats[3000:4000] + train_images_dogs_cats[15500:16500]"
   ]
  },
  {
   "cell_type": "code",
   "execution_count": 7,
   "id": "385ee269",
   "metadata": {
    "execution": {
     "iopub.execute_input": "2022-07-06T23:21:00.556118Z",
     "iopub.status.busy": "2022-07-06T23:21:00.554698Z",
     "iopub.status.idle": "2022-07-06T23:21:00.559315Z",
     "shell.execute_reply": "2022-07-06T23:21:00.558658Z"
    },
    "papermill": {
     "duration": 0.024878,
     "end_time": "2022-07-06T23:21:00.561173",
     "exception": false,
     "start_time": "2022-07-06T23:21:00.536295",
     "status": "completed"
    },
    "tags": []
   },
   "outputs": [],
   "source": [
    "# img = train_images_dogs_cats[0]\n",
    "# print(img)\n",
    "# img = cv2.imread(img)\n",
    "# img\n",
    "# # cv2.imshow('image', img)"
   ]
  },
  {
   "cell_type": "code",
   "execution_count": 8,
   "id": "d339bcd1",
   "metadata": {
    "execution": {
     "iopub.execute_input": "2022-07-06T23:21:00.598625Z",
     "iopub.status.busy": "2022-07-06T23:21:00.598397Z",
     "iopub.status.idle": "2022-07-06T23:21:00.604404Z",
     "shell.execute_reply": "2022-07-06T23:21:00.603591Z"
    },
    "papermill": {
     "duration": 0.026474,
     "end_time": "2022-07-06T23:21:00.606377",
     "exception": false,
     "start_time": "2022-07-06T23:21:00.579903",
     "status": "completed"
    },
    "tags": []
   },
   "outputs": [],
   "source": [
    "def prepare_data(list_of_images):\n",
    "    \"\"\"\n",
    "    Returns two arrays: \n",
    "    x is an array of resized images\n",
    "    y is an array of labels\n",
    "    \"\"\"\n",
    "    x = [] # images as arrays\n",
    "    y = [] # labels\n",
    "\n",
    "    # this will append each image in x list with resizing it.\n",
    "    for image in list_of_images:\n",
    "        x.append(cv2.resize(cv2.imread(image), (img_width,img_height), interpolation=cv2.INTER_CUBIC))\n",
    "    \n",
    "    # As we can't deal with categorical labels we need to change the labels to numerical such 0, 1\n",
    "    # This code does this for us as it changes dog to 1, cat to 0\n",
    "    for i in list_of_images:\n",
    "        if 'dog' in i:\n",
    "            y.append(1)\n",
    "        elif 'cat' in i:\n",
    "            y.append(0)\n",
    "\n",
    "    return x, y"
   ]
  },
  {
   "cell_type": "code",
   "execution_count": 9,
   "id": "937eba56",
   "metadata": {
    "execution": {
     "iopub.execute_input": "2022-07-06T23:21:00.641764Z",
     "iopub.status.busy": "2022-07-06T23:21:00.641560Z",
     "iopub.status.idle": "2022-07-06T23:21:04.676205Z",
     "shell.execute_reply": "2022-07-06T23:21:04.675320Z"
    },
    "papermill": {
     "duration": 4.054781,
     "end_time": "2022-07-06T23:21:04.678422",
     "exception": false,
     "start_time": "2022-07-06T23:21:00.623641",
     "status": "completed"
    },
    "tags": []
   },
   "outputs": [],
   "source": [
    "X, Y = prepare_data(train_images_dogs_cats)"
   ]
  },
  {
   "cell_type": "code",
   "execution_count": 10,
   "id": "2d482670",
   "metadata": {
    "execution": {
     "iopub.execute_input": "2022-07-06T23:21:04.719772Z",
     "iopub.status.busy": "2022-07-06T23:21:04.719531Z",
     "iopub.status.idle": "2022-07-06T23:21:05.635570Z",
     "shell.execute_reply": "2022-07-06T23:21:05.634663Z"
    },
    "papermill": {
     "duration": 0.938475,
     "end_time": "2022-07-06T23:21:05.637552",
     "exception": false,
     "start_time": "2022-07-06T23:21:04.699077",
     "status": "completed"
    },
    "tags": []
   },
   "outputs": [],
   "source": [
    "from sklearn.model_selection import train_test_split\n",
    "\n",
    "X_train, X_val, Y_train, Y_val = train_test_split(X, Y, test_size=0.3, shuffle=1)"
   ]
  },
  {
   "cell_type": "code",
   "execution_count": 11,
   "id": "17ecf18a",
   "metadata": {
    "execution": {
     "iopub.execute_input": "2022-07-06T23:21:05.675761Z",
     "iopub.status.busy": "2022-07-06T23:21:05.675507Z",
     "iopub.status.idle": "2022-07-06T23:21:11.343649Z",
     "shell.execute_reply": "2022-07-06T23:21:11.342701Z"
    },
    "papermill": {
     "duration": 5.689712,
     "end_time": "2022-07-06T23:21:11.346144",
     "exception": false,
     "start_time": "2022-07-06T23:21:05.656432",
     "status": "completed"
    },
    "tags": []
   },
   "outputs": [],
   "source": [
    "from keras.preprocessing.image import ImageDataGenerator\n",
    "\n",
    "train_datagen = ImageDataGenerator(\n",
    "        rescale=1 / 255.0,\n",
    "        rotation_range=20,\n",
    "        zoom_range=0.3,\n",
    "        width_shift_range=0.2,\n",
    "        height_shift_range=0.2,\n",
    "        shear_range=0.2,\n",
    "        horizontal_flip=True,\n",
    "        fill_mode=\"nearest\",\n",
    "        validation_split=0.20\n",
    " )\n",
    "\n",
    "val_datagen = ImageDataGenerator(\n",
    "        rescale=1 / 255.0,\n",
    "        rotation_range=20,\n",
    "        zoom_range=0.3,\n",
    "        width_shift_range=0.2,\n",
    "        height_shift_range=0.2,\n",
    "        shear_range=0.2,\n",
    "        horizontal_flip=True,\n",
    "        fill_mode=\"nearest\",\n",
    "        validation_split=0.20\n",
    "        )"
   ]
  },
  {
   "cell_type": "code",
   "execution_count": 12,
   "id": "24bc4541",
   "metadata": {
    "execution": {
     "iopub.execute_input": "2022-07-06T23:21:11.389127Z",
     "iopub.status.busy": "2022-07-06T23:21:11.388389Z",
     "iopub.status.idle": "2022-07-06T23:21:11.924526Z",
     "shell.execute_reply": "2022-07-06T23:21:11.923762Z"
    },
    "papermill": {
     "duration": 0.559863,
     "end_time": "2022-07-06T23:21:11.926837",
     "exception": false,
     "start_time": "2022-07-06T23:21:11.366974",
     "status": "completed"
    },
    "tags": []
   },
   "outputs": [],
   "source": [
    "train_generator = train_datagen.flow(np.array(X_train), Y_train, batch_size=10)\n",
    "\n",
    "validation_generator = val_datagen.flow(np.array(X_val), Y_val, batch_size=10)"
   ]
  },
  {
   "cell_type": "code",
   "execution_count": 13,
   "id": "8f3506c1",
   "metadata": {
    "execution": {
     "iopub.execute_input": "2022-07-06T23:21:11.963658Z",
     "iopub.status.busy": "2022-07-06T23:21:11.963432Z",
     "iopub.status.idle": "2022-07-06T23:21:11.972784Z",
     "shell.execute_reply": "2022-07-06T23:21:11.972114Z"
    },
    "papermill": {
     "duration": 0.029714,
     "end_time": "2022-07-06T23:21:11.974576",
     "exception": false,
     "start_time": "2022-07-06T23:21:11.944862",
     "status": "completed"
    },
    "tags": []
   },
   "outputs": [],
   "source": [
    "from tensorflow.keras.applications.inception_v3 import InceptionV3\n",
    "import tensorflow as tf\n",
    "from tensorflow.keras import layers\n",
    "from tensorflow.keras.optimizers import RMSprop\n",
    "\n",
    "def create_inception_model():\n",
    "    base_model = InceptionV3(input_shape = (150, 150, 3), include_top = False, weights = 'imagenet') \n",
    "    \n",
    "    for layer in base_model.layers:\n",
    "        layer.trainable = False\n",
    "        \n",
    "    x = layers.Flatten()(base_model.output)\n",
    "    x = layers.Dense(512, activation='relu')(x)\n",
    "    x = layers.Dropout(0.2)(x)\n",
    "    x = layers.Dense(256, activation='relu')(x)\n",
    "    # Add a final sigmoid layer with 1 node for classification output\n",
    "    x = layers.Dense(1, activation='sigmoid')(x)\n",
    "    model = tf.keras.models.Model(base_model.input, x)\n",
    "    model.compile(optimizer = RMSprop(learning_rate=0.0001), loss = 'binary_crossentropy', metrics = ['accuracy'])\n",
    "    return model"
   ]
  },
  {
   "cell_type": "code",
   "execution_count": 14,
   "id": "25b19653",
   "metadata": {
    "execution": {
     "iopub.execute_input": "2022-07-06T23:21:12.012595Z",
     "iopub.status.busy": "2022-07-06T23:21:12.012377Z",
     "iopub.status.idle": "2022-07-06T23:21:17.360466Z",
     "shell.execute_reply": "2022-07-06T23:21:17.359616Z"
    },
    "papermill": {
     "duration": 5.368571,
     "end_time": "2022-07-06T23:21:17.362637",
     "exception": false,
     "start_time": "2022-07-06T23:21:11.994066",
     "status": "completed"
    },
    "tags": []
   },
   "outputs": [
    {
     "name": "stderr",
     "output_type": "stream",
     "text": [
      "2022-07-06 23:21:12.124138: I tensorflow/stream_executor/cuda/cuda_gpu_executor.cc:937] successful NUMA node read from SysFS had negative value (-1), but there must be at least one NUMA node, so returning NUMA node zero\n",
      "2022-07-06 23:21:12.310693: I tensorflow/stream_executor/cuda/cuda_gpu_executor.cc:937] successful NUMA node read from SysFS had negative value (-1), but there must be at least one NUMA node, so returning NUMA node zero\n",
      "2022-07-06 23:21:12.311606: I tensorflow/stream_executor/cuda/cuda_gpu_executor.cc:937] successful NUMA node read from SysFS had negative value (-1), but there must be at least one NUMA node, so returning NUMA node zero\n",
      "2022-07-06 23:21:12.313150: I tensorflow/core/platform/cpu_feature_guard.cc:142] This TensorFlow binary is optimized with oneAPI Deep Neural Network Library (oneDNN) to use the following CPU instructions in performance-critical operations:  AVX2 AVX512F FMA\n",
      "To enable them in other operations, rebuild TensorFlow with the appropriate compiler flags.\n",
      "2022-07-06 23:21:12.313574: I tensorflow/stream_executor/cuda/cuda_gpu_executor.cc:937] successful NUMA node read from SysFS had negative value (-1), but there must be at least one NUMA node, so returning NUMA node zero\n",
      "2022-07-06 23:21:12.314627: I tensorflow/stream_executor/cuda/cuda_gpu_executor.cc:937] successful NUMA node read from SysFS had negative value (-1), but there must be at least one NUMA node, so returning NUMA node zero\n",
      "2022-07-06 23:21:12.315504: I tensorflow/stream_executor/cuda/cuda_gpu_executor.cc:937] successful NUMA node read from SysFS had negative value (-1), but there must be at least one NUMA node, so returning NUMA node zero\n",
      "2022-07-06 23:21:14.537143: I tensorflow/stream_executor/cuda/cuda_gpu_executor.cc:937] successful NUMA node read from SysFS had negative value (-1), but there must be at least one NUMA node, so returning NUMA node zero\n",
      "2022-07-06 23:21:14.537991: I tensorflow/stream_executor/cuda/cuda_gpu_executor.cc:937] successful NUMA node read from SysFS had negative value (-1), but there must be at least one NUMA node, so returning NUMA node zero\n",
      "2022-07-06 23:21:14.538703: I tensorflow/stream_executor/cuda/cuda_gpu_executor.cc:937] successful NUMA node read from SysFS had negative value (-1), but there must be at least one NUMA node, so returning NUMA node zero\n",
      "2022-07-06 23:21:14.540202: I tensorflow/core/common_runtime/gpu/gpu_device.cc:1510] Created device /job:localhost/replica:0/task:0/device:GPU:0 with 15403 MB memory:  -> device: 0, name: Tesla P100-PCIE-16GB, pci bus id: 0000:00:04.0, compute capability: 6.0\n"
     ]
    },
    {
     "name": "stdout",
     "output_type": "stream",
     "text": [
      "Downloading data from https://storage.googleapis.com/tensorflow/keras-applications/inception_v3/inception_v3_weights_tf_dim_ordering_tf_kernels_notop.h5\n",
      "87916544/87910968 [==============================] - 0s 0us/step\n",
      "87924736/87910968 [==============================] - 0s 0us/step\n"
     ]
    }
   ],
   "source": [
    "inception_model = create_inception_model()"
   ]
  },
  {
   "cell_type": "code",
   "execution_count": 15,
   "id": "f1beb47e",
   "metadata": {
    "execution": {
     "iopub.execute_input": "2022-07-06T23:21:17.407537Z",
     "iopub.status.busy": "2022-07-06T23:21:17.407309Z",
     "iopub.status.idle": "2022-07-06T23:21:17.411716Z",
     "shell.execute_reply": "2022-07-06T23:21:17.411089Z"
    },
    "papermill": {
     "duration": 0.029109,
     "end_time": "2022-07-06T23:21:17.413425",
     "exception": false,
     "start_time": "2022-07-06T23:21:17.384316",
     "status": "completed"
    },
    "tags": []
   },
   "outputs": [],
   "source": [
    "# inception_model.summary()"
   ]
  },
  {
   "cell_type": "code",
   "execution_count": 16,
   "id": "47448b83",
   "metadata": {
    "execution": {
     "iopub.execute_input": "2022-07-06T23:21:17.458474Z",
     "iopub.status.busy": "2022-07-06T23:21:17.458119Z",
     "iopub.status.idle": "2022-07-06T23:21:54.001100Z",
     "shell.execute_reply": "2022-07-06T23:21:54.000302Z"
    },
    "papermill": {
     "duration": 36.567589,
     "end_time": "2022-07-06T23:21:54.003162",
     "exception": false,
     "start_time": "2022-07-06T23:21:17.435573",
     "status": "completed"
    },
    "tags": []
   },
   "outputs": [
    {
     "name": "stderr",
     "output_type": "stream",
     "text": [
      "2022-07-06 23:21:17.585154: I tensorflow/compiler/mlir/mlir_graph_optimization_pass.cc:185] None of the MLIR Optimization Passes are enabled (registered 2)\n"
     ]
    },
    {
     "name": "stdout",
     "output_type": "stream",
     "text": [
      "Epoch 1/5\n"
     ]
    },
    {
     "name": "stderr",
     "output_type": "stream",
     "text": [
      "2022-07-06 23:21:22.810828: I tensorflow/stream_executor/cuda/cuda_dnn.cc:369] Loaded cuDNN version 8005\n"
     ]
    },
    {
     "name": "stdout",
     "output_type": "stream",
     "text": [
      "50/50 - 17s - loss: 1.0373 - accuracy: 0.7980 - val_loss: 0.1332 - val_accuracy: 0.9367\n",
      "Epoch 2/5\n",
      "50/50 - 4s - loss: 0.4877 - accuracy: 0.8600 - val_loss: 0.2819 - val_accuracy: 0.8967\n",
      "Epoch 3/5\n",
      "50/50 - 5s - loss: 0.4396 - accuracy: 0.8740 - val_loss: 0.5661 - val_accuracy: 0.8533\n",
      "Epoch 4/5\n",
      "50/50 - 4s - loss: 0.4626 - accuracy: 0.8780 - val_loss: 0.3163 - val_accuracy: 0.8900\n",
      "Epoch 5/5\n",
      "50/50 - 5s - loss: 0.4338 - accuracy: 0.8940 - val_loss: 0.2504 - val_accuracy: 0.9400\n"
     ]
    }
   ],
   "source": [
    "history = inception_model.fit(\n",
    "            train_generator,\n",
    "            steps_per_epoch=50,\n",
    "            epochs=5,\n",
    "            validation_data=validation_generator,\n",
    "            validation_steps=30,\n",
    "            verbose=2)"
   ]
  },
  {
   "cell_type": "code",
   "execution_count": 17,
   "id": "85ef9838",
   "metadata": {
    "execution": {
     "iopub.execute_input": "2022-07-06T23:21:54.056460Z",
     "iopub.status.busy": "2022-07-06T23:21:54.056191Z",
     "iopub.status.idle": "2022-07-06T23:22:19.815602Z",
     "shell.execute_reply": "2022-07-06T23:22:19.814829Z"
    },
    "papermill": {
     "duration": 25.788677,
     "end_time": "2022-07-06T23:22:19.817855",
     "exception": false,
     "start_time": "2022-07-06T23:21:54.029178",
     "status": "completed"
    },
    "tags": []
   },
   "outputs": [],
   "source": [
    "X_test, Y_test = prepare_data(test_images_dogs_cats)  # Y_test in this case will be []"
   ]
  },
  {
   "cell_type": "code",
   "execution_count": 18,
   "id": "26a2cec5",
   "metadata": {
    "execution": {
     "iopub.execute_input": "2022-07-06T23:22:19.869438Z",
     "iopub.status.busy": "2022-07-06T23:22:19.868686Z",
     "iopub.status.idle": "2022-07-06T23:23:24.838209Z",
     "shell.execute_reply": "2022-07-06T23:23:24.837463Z"
    },
    "papermill": {
     "duration": 64.997512,
     "end_time": "2022-07-06T23:23:24.840333",
     "exception": false,
     "start_time": "2022-07-06T23:22:19.842821",
     "status": "completed"
    },
    "tags": []
   },
   "outputs": [
    {
     "name": "stderr",
     "output_type": "stream",
     "text": [
      "/opt/conda/lib/python3.7/site-packages/keras/engine/training.py:2035: UserWarning: `Model.predict_generator` is deprecated and will be removed in a future version. Please use `Model.predict`, which supports generators.\n",
      "  warnings.warn('`Model.predict_generator` is deprecated and '\n"
     ]
    },
    {
     "name": "stdout",
     "output_type": "stream",
     "text": [
      "417/417 [==============================] - 62s 144ms/step\n"
     ]
    }
   ],
   "source": [
    "test_datagen = ImageDataGenerator(rescale=1. / 255)\n",
    "\n",
    "test_generator = val_datagen.flow(np.array(X_test), batch_size=30)\n",
    "\n",
    "prediction_probabilities = inception_model.predict_generator(test_generator, verbose=1)\n",
    "\n",
    "\n",
    "counter = range(1, len(test_images_dogs_cats) + 1)\n",
    "\n",
    "solution = pd.DataFrame({\"id\": counter, \"label\":list(prediction_probabilities)})\n",
    "\n",
    "cols = ['label']\n",
    "\n",
    "\n",
    "\n",
    "for col in cols:\n",
    "    solution[col] = solution[col].map(lambda x: str(x).lstrip('[').rstrip(']')).astype(float)\n",
    "\n",
    "\n",
    "\n",
    "solution.to_csv(\"dogsVScats.csv\", index = False)\n"
   ]
  },
  {
   "cell_type": "code",
   "execution_count": null,
   "id": "810320bd",
   "metadata": {
    "papermill": {
     "duration": 0.151562,
     "end_time": "2022-07-06T23:23:25.145271",
     "exception": false,
     "start_time": "2022-07-06T23:23:24.993709",
     "status": "completed"
    },
    "tags": []
   },
   "outputs": [],
   "source": []
  },
  {
   "cell_type": "code",
   "execution_count": null,
   "id": "0f424d2b",
   "metadata": {
    "papermill": {
     "duration": 0.151609,
     "end_time": "2022-07-06T23:23:25.448124",
     "exception": false,
     "start_time": "2022-07-06T23:23:25.296515",
     "status": "completed"
    },
    "tags": []
   },
   "outputs": [],
   "source": []
  }
 ],
 "metadata": {
  "kernelspec": {
   "display_name": "Python 3",
   "language": "python",
   "name": "python3"
  },
  "language_info": {
   "codemirror_mode": {
    "name": "ipython",
    "version": 3
   },
   "file_extension": ".py",
   "mimetype": "text/x-python",
   "name": "python",
   "nbconvert_exporter": "python",
   "pygments_lexer": "ipython3",
   "version": "3.7.12"
  },
  "papermill": {
   "default_parameters": {},
   "duration": 173.399191,
   "end_time": "2022-07-06T23:23:28.627582",
   "environment_variables": {},
   "exception": null,
   "input_path": "__notebook__.ipynb",
   "output_path": "__notebook__.ipynb",
   "parameters": {},
   "start_time": "2022-07-06T23:20:35.228391",
   "version": "2.3.4"
  }
 },
 "nbformat": 4,
 "nbformat_minor": 5
}
